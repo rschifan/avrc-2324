{
 "cells": [
  {
   "cell_type": "markdown",
   "metadata": {},
   "source": [
    "In the last lesson, you learned how to create your own style sheets, and now that you've picked up this valuable skill, you may find that want to create your own styles, but your not quite sure where to begin. Well, if it's inspiration you're looking for, you're in luck! Fortunately, matplotlib's default style sheets are an excellent resource and in this lesson, I'll show where you can find them, but first, let's get everything set up."
   ]
  },
  {
   "cell_type": "code",
   "execution_count": 4,
   "metadata": {
    "collapsed": false,
    "jupyter": {
     "outputs_hidden": false
    }
   },
   "outputs": [],
   "source": [
    "%matplotlib inline\n",
    "\n",
    "import matplotlib as mpl\n",
    "import matplotlib.pyplot as plt\n",
    "import numpy as np"
   ]
  },
  {
   "cell_type": "markdown",
   "metadata": {},
   "source": [
    "## Finding matplotlib's Config Directory\n",
    "\n",
    "Now, to find all of the default style sheets that ship with matplotlib, you'll need to call the `get_data_path()` global function on the `matplotlib` module to get the directory where matplotlib keeps all of its default settings. Let's go ahead and do that now."
   ]
  },
  {
   "cell_type": "code",
   "execution_count": 5,
   "metadata": {
    "collapsed": false,
    "jupyter": {
     "outputs_hidden": false
    }
   },
   "outputs": [
    {
     "data": {
      "text/plain": [
       "'/Users/rschifan/opt/anaconda3/lib/python3.9/site-packages/matplotlib/mpl-data'"
      ]
     },
     "execution_count": 5,
     "metadata": {},
     "output_type": "execute_result"
    }
   ],
   "source": [
    "mpl.get_data_path()"
   ]
  },
  {
   "cell_type": "markdown",
   "metadata": {},
   "source": [
    "Ok, so we now know the path where matplotlib keeps all of its default settings, but to find the style sheets themselves, we'll need to go one level deeper, into the `stylelib` directory. \n",
    "\n",
    "In the code below, we use the `cat` command to display the contents of the `'fivethirtyeight'` style that we used in our last lesson."
   ]
  },
  {
   "cell_type": "code",
   "execution_count": 6,
   "metadata": {
    "collapsed": false,
    "jupyter": {
     "outputs_hidden": false
    }
   },
   "outputs": [
    {
     "name": "stdout",
     "output_type": "stream",
     "text": [
      "#Author: Cameron Davidson-Pilon, replicated styles from FiveThirtyEight.com\n",
      "# See https://www.dataorigami.net/blogs/fivethirtyeight-mpl\n",
      "\n",
      "lines.linewidth: 4\n",
      "lines.solid_capstyle: butt\n",
      "\n",
      "legend.fancybox: true\n",
      "\n",
      "axes.prop_cycle: cycler('color', ['008fd5', 'fc4f30', 'e5ae38', '6d904f', '8b8b8b', '810f7c'])\n",
      "axes.facecolor: f0f0f0\n",
      "axes.labelsize: large\n",
      "axes.axisbelow: true\n",
      "axes.grid: true\n",
      "axes.edgecolor: f0f0f0\n",
      "axes.linewidth: 3.0\n",
      "axes.titlesize: x-large\n",
      "\n",
      "patch.edgecolor: f0f0f0\n",
      "patch.linewidth: 0.5\n",
      "\n",
      "svg.fonttype: path\n",
      "\n",
      "grid.linestyle: -\n",
      "grid.linewidth: 1.0\n",
      "grid.color: cbcbcb\n",
      "\n",
      "xtick.major.size: 0\n",
      "xtick.minor.size: 0\n",
      "ytick.major.size: 0\n",
      "ytick.minor.size: 0\n",
      "\n",
      "font.size:14.0\n",
      "\n",
      "savefig.edgecolor: f0f0f0\n",
      "savefig.facecolor: f0f0f0\n",
      "\n",
      "figure.subplot.left: 0.08\n",
      "figure.subplot.right: 0.95\n",
      "figure.subplot.bottom: 0.07\n",
      "figure.facecolor: f0f0f0\n"
     ]
    }
   ],
   "source": [
    "import os\n",
    "\n",
    "!cat {os.path.join(mpl.get_data_path(), 'stylelib', 'fivethirtyeight.mplstyle')}"
   ]
  },
  {
   "cell_type": "markdown",
   "metadata": {},
   "source": [
    "## Conclusion\n",
    "\n",
    "Well, how do you like that, with just a slight jiggering of some settings---less than 30 lines, by my count---you can create an entirely unique and applealing set of plots with matplotlib. And, now that you know where to find the style sheets for each of the default matplotlib styles, you'll always have examples to learn from and a constant source of inspiration."
   ]
  },
  {
   "cell_type": "code",
   "execution_count": null,
   "metadata": {},
   "outputs": [],
   "source": []
  },
  {
   "cell_type": "code",
   "execution_count": null,
   "metadata": {},
   "outputs": [],
   "source": []
  }
 ],
 "metadata": {
  "kernelspec": {
   "display_name": "Python 3 (ipykernel)",
   "language": "python",
   "name": "python3"
  },
  "language_info": {
   "codemirror_mode": {
    "name": "ipython",
    "version": 3
   },
   "file_extension": ".py",
   "mimetype": "text/x-python",
   "name": "python",
   "nbconvert_exporter": "python",
   "pygments_lexer": "ipython3",
   "version": "3.9.7"
  }
 },
 "nbformat": 4,
 "nbformat_minor": 4
}
