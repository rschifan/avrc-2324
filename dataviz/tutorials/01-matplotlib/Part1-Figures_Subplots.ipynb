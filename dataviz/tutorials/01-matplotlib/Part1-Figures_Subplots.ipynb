{
 "cells": [
  {
   "cell_type": "markdown",
   "metadata": {
    "slideshow": {
     "slide_type": "-"
    }
   },
   "source": [
    "# Matplotlib\n",
    "\n",
    "Matplotlib is a library for producing publication-quality figures. mpl (for short) was designed from the beginning to serve two purposes. First, allow for interactive, cross-platform control of figures and plots, and second, to make it very easy to produce static raster or vector graphics files without the need for any GUIs. Furthermore, mpl -- much like Python itself -- gives the developer complete control over the appearance of their plots, while still being very usable through a powerful defaults system."
   ]
  },
  {
   "cell_type": "markdown",
   "metadata": {},
   "source": [
    "## Online Documentation\n",
    "The [matplotlib.org](http://matplotlib.org) project website is the primary online resource for the library's documentation. It contains [examples](https://matplotlib.org/stable/gallery/index), [FAQs](https://matplotlib.org/stable/users/faq.html), [API documentation](https://matplotlib.org/stable/api/index.html), and, most importantly, the [gallery](https://matplotlib.org/stable/plot_types/index.html).\n",
    "\n",
    "## Gallery\n",
    "Many users of Matplotlib are often faced with the question, \"I want to make a figure that has X with Y in the same figure, but it needs to look like Z\". Good luck getting an answer from a web search with that query! This is why the [gallery](https://matplotlib.org/stable/plot_types/index.html) is so useful, because it showcases the variety of ways one can make figures. Browse through the gallery, click on any figure that has pieces of what you want to see and the code that generated it. Soon enough, you will be like a chef, mixing and matching components to produce your masterpiece!\n",
    "\n",
    "As always, if you have a new and interesting plot that demonstrates a feature of Matplotlib, feel free to submit a concise, well-commented version of the code for inclusion in the gallery.\n",
    "\n",
    "## Mailing Lists and StackOverflow\n",
    "When you are just simply stuck, and cannot figure out how to get something to work, or just need some hints on how to get started, you will find much of the community at the matplotlib-users [mailing list](https://mail.python.org/mailman/listinfo/matplotlib-users). This mailing list is an excellent resource of information with many friendly members who just love to help out newcomers. The number one rule to remember with this list is to be persistant. While many questions do get answered fairly quickly, some do fall through the cracks, or the one person who knows the answer isn't available. Therefore, try again with your questions rephrased, or with a plot showing your attempts so far. We love plots, so an image showing what is wrong often gets the quickest responses.\n",
    "\n",
    "Another community resource is [StackOverflow](http://stackoverflow.com/questions/tagged/matplotlib), so if you need to build up karma points, submit your questions here, and help others out too! We are also on [Gitter](https://gitter.im/matplotlib/matplotlib).\n",
    "\n",
    "## Github repository\n",
    "### Location\n",
    "[Matplotlib](https://github.com/matplotlib) is hosted by GitHub.\n",
    "\n",
    "### Bug Reports and feature requests\n",
    "So, you think you found a bug? Or maybe you think some feature is just too difficult to use? Or missing altogether? Submit your bug reports [here](https://github.com/matplotlib/matplotlib/issues) at Matplotlib's issue tracker. We even have a process for submitting and discussing Matplotlib Enhancement Proposals ([MEPs](http://matplotlib.org/devdocs/devel/MEP/index.html))."
   ]
  },
  {
   "cell_type": "markdown",
   "metadata": {},
   "source": [
    "General Concepts\n",
    "================\n",
    "\n",
    "`matplotlib` has an extensive codebase that can be daunting to many\n",
    "new users. However, most of matplotlib can be understood with a fairly\n",
    "simple conceptual framework and knowledge of a few important points.\n",
    "\n",
    "Plotting requires action on a range of levels, from the most general\n",
    "(e.g., 'contour this 2-D array') to the most specific (e.g., 'color\n",
    "this screen pixel red'). The purpose of a plotting package is to assist\n",
    "you in visualizing your data as easily as possible, with all the necessary\n",
    "control -- that is, by using relatively high-level commands most of\n",
    "the time, and still have the ability to use the low-level commands when\n",
    "needed.\n",
    "\n",
    "Therefore, everything in matplotlib is organized in a hierarchy. At the top\n",
    "of the hierarchy is the matplotlib \"state-machine environment\" which is\n",
    "provided by the `matplotlib.pyplot` module. At this level, simple\n",
    "functions are used to add plot elements (lines, images, text, etc.) to\n",
    "the current axes in the current figure.\n",
    "\n",
    "<div class=\"alert alert-info\"><h4>Note</h4><p>Pyplot's state-machine environment behaves similarly to MATLAB and\n",
    "   should be most familiar to users with MATLAB experience.</p></div>\n",
    "\n",
    "The next level down in the hierarchy is the first level of the object-oriented\n",
    "interface, in which pyplot is used only for a few functions such as figure\n",
    "creation, and the user explicitly creates and keeps track of the figure\n",
    "and axes objects. At this level, the user uses pyplot to create figures,\n",
    "and through those figures, one or more axes objects can be created. These\n",
    "axes objects are then used for most plotting actions.\n",
    "\n",
    "For even more control -- which is essential for things like embedding\n",
    "matplotlib plots in GUI applications -- the pyplot level may be dropped\n",
    "completely, leaving a purely object-oriented approach.\n",
    "\n"
   ]
  },
  {
   "cell_type": "markdown",
   "metadata": {},
   "source": [
    "Backends\n",
    "========\n",
    "\n",
    "\n",
    "What is a backend?\n",
    "------------------\n",
    "\n",
    "A lot of documentation on the website and in the mailing lists refers\n",
    "to the \"backend\" and many new users are confused by this term.\n",
    "matplotlib targets many different use cases and output formats.  Some\n",
    "people use matplotlib interactively from the python shell and have\n",
    "plotting windows pop up when they type commands.  Some people embed\n",
    "matplotlib into graphical user interfaces like wxpython or pygtk to\n",
    "build rich applications.  Others use matplotlib in batch scripts to\n",
    "generate postscript images from some numerical simulations, and still\n",
    "others in web application servers to dynamically serve up graphs.\n",
    "\n",
    "To support all of these use cases, matplotlib can target different\n",
    "outputs, and each of these capabilities is called a `backend`; the\n",
    "\"frontend\" is the user facing code, i.e., the plotting code, whereas the\n",
    "\"backend\" does all the hard work behind-the-scenes to make the figure.\n",
    "There are two types of backends: \n",
    "* user interface backends (for use in pygtk, wxpython, tkinter, qt4, or macosx; also referred to as \"interactive backends\")\n",
    "* hardcopy backends to make image files (PNG, SVG, PDF, PS; also referred to as \"non-interactive backends\").\n",
    "\n",
    "There are four ways to configure your backend. If they conflict each other,\n",
    "the method mentioned last in the following list will be used, e.g. calling\n",
    "`matplotlib.use()` will override the setting in your ``matplotlibrc``.\n",
    "\n",
    "\n",
    "* The ``backend`` parameter in your ``matplotlibrc`` file:\n",
    "\n",
    "       backend : WXAgg   # use wxpython with antigrain (agg) rendering\n",
    "\n",
    "* Setting the `MPLBACKEND` environment\n",
    "   variable, either for your current shell or for a single script:\n",
    "\n",
    "        > export MPLBACKEND=\"module://my_backend\"\n",
    "        > python simple_plot.py\n",
    "\n",
    "        > MPLBACKEND=\"module://my_backend\" python simple_plot.py\n",
    "\n",
    "   Setting this environment variable will override the ``backend`` parameter\n",
    "   in *any* ``matplotlibrc``, even if there is a ``matplotlibrc`` in your\n",
    "   current working directory. Therefore setting `MPLBACKEND`\n",
    "   globally, e.g. in your ``.bashrc`` or ``.profile``, is discouraged as it\n",
    "   might lead to counter-intuitive behavior.\n",
    "\n",
    "* If your script depends on a specific backend you can use the\n",
    "   `matplotlib.use` function:\n",
    "\n",
    "      import matplotlib\n",
    "      matplotlib.use('PS')   # generate postscript output by default\n",
    "\n",
    "   If you use the `matplotlib.use` function, this must be done before\n",
    "   importing `matplotlib.pyplot`. Calling `matplotlib.use` after\n",
    "   pyplot has been imported will have no effect.  Using\n",
    "   `matplotlib.use` will require changes in your code if users want to\n",
    "   use a different backend.  Therefore, you should avoid explicitly calling\n",
    "   `matplotlib.use` unless absolutely necessary.\n",
    "\n",
    "<div class=\"alert alert-info\"><h4>Note</h4><p>Backend name specifications are not case-sensitive; e.g., 'GTKAgg'\n",
    "   and 'gtkagg' are equivalent.</p></div>\n",
    "\n",
    "With a typical installation of matplotlib, such as from a\n",
    "binary installer or a linux distribution package, a good default\n",
    "backend will already be set, allowing both interactive work and\n",
    "plotting from scripts, with output to the screen and/or to\n",
    "a file, so at least initially you will not need to use any of the\n",
    "methods given above.\n",
    "\n",
    "If, however, you want to write graphical user interfaces, or a web\n",
    "application server (`howto-webapp`), or need a better\n",
    "understanding of what is going on, read on. To make things a little\n",
    "more customizable for graphical user interfaces, matplotlib separates\n",
    "the concept of the renderer (the thing that actually does the drawing)\n",
    "from the canvas (the place where the drawing goes).  The canonical\n",
    "renderer for user interfaces is ``Agg`` which uses the `Anti-Grain\n",
    "Geometry` C++ library to make a raster (pixel) image of the figure.\n",
    "All of the user interfaces except ``macosx`` can be used with\n",
    "agg rendering, e.g.,\n",
    "``WXAgg``, ``GTKAgg``, ``QT4Agg``, ``QT5Agg``, ``TkAgg``.  In\n",
    "addition, some of the user interfaces support other rendering engines.\n",
    "For example, with GTK, you can also select GDK rendering (backend\n",
    "``GTK`` deprecated in 2.0) or Cairo rendering (backend ``GTKCairo``).\n",
    "\n",
    "For the rendering engines, one can also distinguish between `vector\n",
    "<https://en.wikipedia.org/wiki/Vector_graphics>` or `raster\n",
    "<https://en.wikipedia.org/wiki/Raster_graphics>` renderers.  Vector\n",
    "graphics languages issue drawing commands like \"draw a line from this\n",
    "point to this point\" and hence are scale free, and raster backends\n",
    "generate a pixel representation of the line whose accuracy depends on a\n",
    "DPI setting.\n",
    "\n",
    "Here is a summary of the matplotlib renderers (there is an eponymous\n",
    "backed for each; these are *non-interactive backends*, capable of\n",
    "writing to a file):\n",
    "\n",
    "<pre>\n",
    "=============   ============   ================================================\n",
    "Renderer        Filetypes      Description\n",
    "=============   ============   ================================================\n",
    "`AGG`           `png`          `raster graphics` -- high quality images \n",
    "                                using the `Anti-Grain Geometry`_ engine\n",
    "PS              `ps`           `vector graphics` -- Postscript_ output\n",
    "                `eps`\n",
    "PDF             `pdf`          `vector graphics` --\n",
    "                               `Portable Document Format`_\n",
    "SVG             `svg`          `vector graphics` --\n",
    "                               `Scalable Vector Graphics`_\n",
    "`Cairo`         `png`          `vector graphics` --\n",
    "                `ps`           `Cairo graphics`_\n",
    "                `pdf`\n",
    "                `svg`\n",
    "                ...\n",
    "=============   ============   ================================================</pre>\n",
    "\n",
    "And here are the user interfaces and renderer combinations supported;\n",
    "these are *interactive backends*, capable of displaying to the screen\n",
    "and of using appropriate renderers from the table above to write to\n",
    "a file:\n",
    "\n",
    "<pre>\n",
    "============   ================================================================\n",
    "Backend        Description\n",
    "============   ================================================================\n",
    "Qt5Agg         Agg rendering in a :term:`Qt5` canvas (requires PyQt5_).  This\n",
    "               backend can be activated in IPython with ``%matplotlib qt5``.\n",
    "ipympl         Agg rendering embedded in a Jupyter widget.  (requires ipympl)\n",
    "               This can be enabled in a Jupyter notebook with\n",
    "               ``%matplotlib ipympl``\n",
    "GTK3Agg        Agg rendering to a :term:`GTK` 3.x canvas (requires PyGObject_\n",
    "               and pycairo_ or cairocffi_)\n",
    "               This backend can be activated in IPython with\n",
    "               ``%matplotlib gtk3``.\n",
    "macosx         Agg rendering into a Cocoa canvas in OSX.\n",
    "               This backend can be activated in IPython with\n",
    "               ``%matplotlib osx``.\n",
    "TkAgg          Agg rendering to a :term:`Tk` canvas (requires TkInter_).\n",
    "               This backend can be activated in IPython with\n",
    "               ``%matplotlib tk``.\n",
    "nbAgg          Embed an interactive figure in a Jupyter classic notebook.  This\n",
    "               backend can be enabled in Jupyter notebooks via\n",
    "               ``%matplotlib notebook``.\n",
    "WebAgg         On ``show()`` will start a tornado server with an interactive\n",
    "               figure.\n",
    "GTK3Cairo      Cairo rendering to a :term:`GTK` 3.x canvas (requires PyGObject_\n",
    "               and pycairo_ or cairocffi_)\n",
    "Qt4Agg         Agg rendering to a :term:`Qt4` canvas (requires PyQt4_\n",
    "               or ``pyside``).\n",
    "               This backend can be activated in IPython with\n",
    "               ``%matplotlib qt4``.\n",
    "GTKAgg         Agg rendering to a :term:`GTK` 2.x canvas (requires PyGTK_ and\n",
    "               pycairo_ or cairocffi_; Python2 only)\n",
    "               This backend can be activated in IPython with\n",
    "               ``%matplotlib gtk``.\n",
    "GTKCairo       Cairo rendering to a :term:`GTK` 2.x canvas (requires PyGTK_\n",
    "               and pycairo_ or cairocffi_; Python2 only)\n",
    "WXAgg          Agg rendering to a :term:`wxWidgets` canvas\n",
    "               (requires wxPython_.  v4.0 (in beta) is\n",
    "               required for python3).\n",
    "               This backend can be activated in IPython with\n",
    "               ``%matplotlib wx``.\n",
    "============   ================================================================\n",
    "</pre>"
   ]
  },
  {
   "cell_type": "code",
   "execution_count": null,
   "metadata": {},
   "outputs": [],
   "source": [
    "import matplotlib\n",
    "\n",
    "matplotlib.rcsetup.all_backends"
   ]
  },
  {
   "cell_type": "code",
   "execution_count": null,
   "metadata": {},
   "outputs": [],
   "source": [
    "matplotlib.rcsetup.interactive_bk"
   ]
  },
  {
   "cell_type": "code",
   "execution_count": null,
   "metadata": {},
   "outputs": [],
   "source": [
    "matplotlib.rcsetup.non_interactive_bk"
   ]
  },
  {
   "cell_type": "markdown",
   "metadata": {},
   "source": [
    "## What is the interactive mode?\n",
    "\n",
    "Use of an interactive backend (see `what-is-a-backend`)\n",
    "permits--but does not by itself require or ensure--plotting\n",
    "to the screen.  Whether and when plotting to the screen occurs,\n",
    "and whether a script or shell session continues after a plot\n",
    "is drawn on the screen, depends on the functions and methods\n",
    "that are called, and on a state variable that determines whether\n",
    "matplotlib is in \"interactive mode\".  The default Boolean value is set\n",
    "by the `matplotlibrc` file, and may be customized like any other\n",
    "configuration parameter (see `sphx_glr_tutorials_introductory_customizing.py`).  It\n",
    "may also be set via `matplotlib.interactive`, and its\n",
    "value may be queried via `matplotlib.is_interactive`.  Turning\n",
    "interactive mode on and off in the middle of a stream of plotting\n",
    "commands, whether in a script or in a shell, is rarely needed\n",
    "and potentially confusing, so in the following we will assume all\n",
    "plotting is done with interactive mode either on or off.\n",
    "\n",
    "Interactive mode may also be turned on via `matplotlib.pyplot.ion`, and turned off via `matplotlib.pyplot.ioff`.\n",
    "\n",
    "#### Note \n",
    "\n",
    "Interactive mode works with suitable backends in ipython and in the ordinary python shell, but it does *not* work in the IDLE IDE. If the default backend does not support interactivity, an interactive backend can be explicitly activated using any of the methods discussed in `What is a backend?`"
   ]
  },
  {
   "cell_type": "markdown",
   "metadata": {},
   "source": [
    "## Getting Started\n",
    "\n",
    "In this tutorial, we'll use the following import statements. These abbreviations are semi-standardized, and most tutorials, other scientific python code that you'll find elsewhere will use them as well."
   ]
  },
  {
   "cell_type": "code",
   "execution_count": null,
   "metadata": {},
   "outputs": [],
   "source": [
    "import numpy as np\n",
    "\n",
    "import matplotlib.pyplot as plt\n",
    "\n",
    "%matplotlib inline\n",
    "%config InlineBackend.figure_format = 'retina'"
   ]
  },
  {
   "cell_type": "markdown",
   "metadata": {},
   "source": [
    "Figures\n",
    "=================\n",
    "\n",
    "![](images/anatomy.png)\n",
    "\n",
    "\n",
    "\n",
    "`matplotlib.figure.Figure`\n",
    "----------------------------------\n",
    "\n",
    "The **whole** figure.  The figure keeps\n",
    "track of all the children `matplotlib.axes.Axes`, a smattering of\n",
    "'special' artists (titles, figure legends, etc), and the **canvas**.\n",
    "(Don't worry too much about the canvas, it is crucial as it is the\n",
    "object that actually does the drawing to get you your plot, but as the\n",
    "user it is more-or-less invisible to you).  A figure can have any\n",
    "number of `matplotlib.axes.Axes`, but to be useful should have\n",
    "at least one.\n"
   ]
  },
  {
   "cell_type": "markdown",
   "metadata": {},
   "source": [
    "Now let's create a figure"
   ]
  },
  {
   "cell_type": "code",
   "execution_count": null,
   "metadata": {},
   "outputs": [],
   "source": [
    "fig = plt.figure()"
   ]
  },
  {
   "cell_type": "markdown",
   "metadata": {},
   "source": [
    "Awww, nothing happened! This is because by default mpl will not show anything until told to do so, as we mentioned earlier in the \"backend\" discussion.\n",
    "\n",
    "Instead, we'll need to call ``plt.show()``"
   ]
  },
  {
   "cell_type": "code",
   "execution_count": null,
   "metadata": {},
   "outputs": [],
   "source": [
    "plt.show()"
   ]
  },
  {
   "cell_type": "markdown",
   "metadata": {},
   "source": [
    "In this case we don't see anything because the figure does not have axes yet. When using Jupyter notebooks, the command ``plt.show()`` is not mandatory since the system will try to automatically display the output of a cell. Different story if the code is iembedded in a Python script run in the terminal for example. "
   ]
  },
  {
   "cell_type": "markdown",
   "metadata": {},
   "source": [
    "However, while we're on the topic, you can control the size of the figure through the ``figsize`` argument, which expects a tuple of ``(width, height)`` in inches. "
   ]
  },
  {
   "cell_type": "code",
   "execution_count": null,
   "metadata": {},
   "outputs": [],
   "source": [
    "fig = plt.figure(figsize=(9, 3), dpi=100)"
   ]
  },
  {
   "cell_type": "markdown",
   "metadata": {},
   "source": [
    "A really useful utility function is [`figaspect`](http://matplotlib.org/api/figure_api.html?highlight=figaspect#matplotlib.figure.figaspect)"
   ]
  },
  {
   "cell_type": "code",
   "execution_count": null,
   "metadata": {},
   "outputs": [],
   "source": [
    "# Twice as tall as it is wide:\n",
    "fig = plt.figure(figsize=plt.figaspect(2.0))"
   ]
  },
  {
   "cell_type": "markdown",
   "metadata": {},
   "source": [
    "# Axes\n",
    "\n",
    "All plotting is done with respect to an [`Axes`](https://matplotlib.org/stable/api/axes_api.html). An *Axes* is made up of [`Axis`](https://matplotlib.org/stable/api/axis_api.html) objects and many other things. An *Axes* object must belong to a *Figure* (and only one *Figure*). Most commands you will ever issue will be with respect to this *Axes* object.\n",
    "\n",
    "Typically, you'll set up a `Figure`, and then add an `Axes` to it. \n",
    "\n",
    "You can use `fig.add_axes`, but in most cases, you'll find that adding a subplot will fit your needs perfectly. (Again a \"subplot\" is just an axes on a grid system.) "
   ]
  },
  {
   "cell_type": "code",
   "execution_count": null,
   "metadata": {},
   "outputs": [],
   "source": [
    "fig = plt.figure()\n",
    "ax = fig.add_subplot(111) # We'll explain the \"111\" later. Basically, 1 row and 1 column.\n",
    "ax.set(xlim=[0.5, 4.5], ylim=[-2, 8], title='An Example Axes',\n",
    "        ylabel='Y-Axis', xlabel='X-Axis')\n",
    "ax.plot([0.5, 1.5, 2.5, 3.5], [-2,5,3,8])"
   ]
  },
  {
   "cell_type": "markdown",
   "metadata": {},
   "source": [
    "\n",
    "Notice the call to ``set``. Matplotlib's objects typically have lots of \"explicit setters\" -- in other words, functions that start with ``set_<something>`` and control a particular option. \n",
    "\n",
    "To demonstrate this (and as an example of IPython's tab-completion), try typing `ax.set_` in a code cell, then hit the `<Tab>` key.  You'll see a long list of `Axes` methods that start with `set`.\n",
    "\n",
    "For example, we could have written the third line above as:"
   ]
  },
  {
   "cell_type": "code",
   "execution_count": null,
   "metadata": {},
   "outputs": [],
   "source": [
    "ax.set_xlim([0.5, 4.5])\n",
    "ax.set_ylim([-2, 8])\n",
    "ax.set_title('An Example Axes')\n",
    "ax.set_ylabel('Y-Axis')\n",
    "ax.set_xlabel('X-Axis')"
   ]
  },
  {
   "cell_type": "markdown",
   "metadata": {},
   "source": [
    "Clearly this can get repetitive quickly.  Therefore, Matplotlib's `set` method can be very handy.  It takes each kwarg you pass it and tries to call the corresponding \"setter\".  For example, `foo.set(bar='blah')` would call `foo.set_bar('blah')`.\n",
    "\n",
    "Note that the `set` method doesn't just apply to `Axes`; it applies to more-or-less all matplotlib objects.\n",
    "\n",
    "However, there are cases where you'll want to use things like `ax.set_xlabel('Some Label', size=25)` to control other options for a particular function."
   ]
  },
  {
   "cell_type": "markdown",
   "metadata": {},
   "source": [
    "## Basic Plotting\n",
    "\n",
    "Most plotting happens on an `Axes`.  Therefore, if you're plotting something on an axes, then you'll use one of its methods.\n",
    "\n",
    "We'll talk about different plotting methods in more depth in the next section.  For now, let's focus on two methods: `plot` and `scatter`.\n",
    "\n",
    "`plot` draws points with lines connecting them.  `scatter` draws unconnected points, optionally scaled or colored by additional variables.\n",
    "\n",
    "As a basic example:"
   ]
  },
  {
   "cell_type": "code",
   "execution_count": null,
   "metadata": {},
   "outputs": [],
   "source": [
    "fig = plt.figure()\n",
    "ax = fig.add_subplot(111)\n",
    "ax.plot([1, 2, 3, 4], [10, 20, 25, 30], color='lightblue', linewidth=3)\n",
    "ax.scatter([0.3, 3.8, 1.2, 2.5], [11, 25, 9, 26], color='darkgreen', marker='^')\n",
    "ax.set_xlim(0.5, 4.5)\n",
    "plt.show()"
   ]
  },
  {
   "cell_type": "markdown",
   "metadata": {},
   "source": [
    "A note on the Object-Oriented API vs Pyplot\n",
    "===========================================\n",
    "\n",
    "Matplotlib has two interfaces. The first is an object-oriented (OO)\n",
    "interface. In this case, we utilize an instance of `axes.Axes`\n",
    "in order to render visualizations on an instance of `figure.Figure`.\n",
    "\n",
    "The second is based on MATLAB and uses\n",
    "a state-based interface. This is encapsulated in the `pyplot`\n",
    "module. \n",
    "\n",
    "Most of the terms are straightforward but the main thing to remember\n",
    "is that:\n",
    "\n",
    "* The Figure is the final image that may contain 1 or more Axes.\n",
    "* The Axes represent an individual plot (don't confuse this with the word\n",
    "  \"axis\", which refers to the x/y axis of a plot).\n",
    "\n",
    "We call methods that do the plotting directly from the Axes, which gives\n",
    "us much more flexibility and power in customizing our plot. \n",
    "\n",
    "<div class=\"alert alert-info\"><h4>Note</h4><p>In general, try to use the object-oriented interface over the pyplot\n",
    "   interface.</p></div>"
   ]
  },
  {
   "cell_type": "markdown",
   "metadata": {},
   "source": [
    "## Axes methods vs. pyplot\n",
    "\n",
    "Interestingly, just about all methods of an *Axes* object exist as a function in the *pyplot* module (and vice-versa). For example, when calling `plt.xlim(1, 10)`, *pyplot* calls `ax.set_xlim(1, 10)` on whichever *Axes* is \"current\". Here is an equivalent version of the above example using just pyplot."
   ]
  },
  {
   "cell_type": "code",
   "execution_count": null,
   "metadata": {},
   "outputs": [],
   "source": [
    "plt.plot([1, 2, 3, 4], [10, 20, 25, 30], color='lightblue', linewidth=3)\n",
    "plt.scatter([0.3, 3.8, 1.2, 2.5], [11, 25, 9, 26], color='darkgreen', marker='^')\n",
    "plt.xlim(0.5, 4.5)\n",
    "plt.show()"
   ]
  },
  {
   "cell_type": "markdown",
   "metadata": {},
   "source": [
    "Much cleaner! So, why will most of my examples not follow the pyplot approach? Because [PEP20](http://www.python.org/dev/peps/pep-0020/) \"The Zen of Python\" says:\n",
    "\n",
    "\"Explicit is better than implicit\"\n",
    "\n",
    "While very simple plots, with short scripts would benefit from the conciseness of the pyplot implicit approach, when doing more complicated plots, or working within larger scripts, you will want to explicitly pass around the *Axes* and/or *Figure* object to operate upon.\n",
    "\n",
    "The advantage of keeping which axes we're working with very clear in our code will become more obvious when we start to have multiple axes in one figure."
   ]
  },
  {
   "cell_type": "markdown",
   "metadata": {},
   "source": [
    "### Multiple Axes\n",
    "\n",
    "We've mentioned before that a figure can have more than one `Axes` on it.  If you want your axes to be on a regular grid system, then it's easier to use `plt.subplots(...)` to create a figure and add the axes to it automatically.\n",
    "\n",
    "For example:"
   ]
  },
  {
   "cell_type": "code",
   "execution_count": null,
   "metadata": {},
   "outputs": [],
   "source": [
    "fig, axes = plt.subplots(nrows=2, ncols=2)"
   ]
  },
  {
   "cell_type": "code",
   "execution_count": null,
   "metadata": {},
   "outputs": [],
   "source": [
    "print(axes)"
   ]
  },
  {
   "cell_type": "markdown",
   "metadata": {},
   "source": [
    "`plt.subplots(...)` created a new figure and added 4 subplots to it.  The `axes` object that was returned is a 2D numpy object array.  Each item in the array is one of the subplots.  They're laid out as you see them on the figure.  \n",
    "\n",
    "Therefore, when we want to work with one of these axes, we can index the `axes` array and use that item's methods.\n",
    "\n",
    "For example:"
   ]
  },
  {
   "cell_type": "code",
   "execution_count": null,
   "metadata": {},
   "outputs": [],
   "source": [
    "fig, axes = plt.subplots(nrows=2, ncols=2)\n",
    "axes[0,0].set(title='Upper Left')\n",
    "axes[0,1].set(title='Upper Right')\n",
    "axes[1,0].set(title='Lower Left')\n",
    "axes[1,1].set(title='Lower Right')\n",
    "\n",
    "# To iterate over all items in a multidimensional numpy array, use the `flat` attribute\n",
    "for ax in axes.flat:\n",
    "    # Remove all xticks and yticks...\n",
    "    ax.set(xticks=[], yticks=[])"
   ]
  },
  {
   "cell_type": "markdown",
   "metadata": {},
   "source": [
    "One really nice thing about `plt.subplots()` is that when it's called with no arguments, it creates a new figure with a single subplot. \n",
    "\n",
    "Any time you see something like\n",
    "\n",
    "```\n",
    "fig = plt.figure()\n",
    "ax = fig.add_subplot(111)\n",
    "```\n",
    "\n",
    "You can replace it with:\n",
    "\n",
    "```\n",
    "fig, ax = plt.subplots()\n",
    "```\n",
    "\n",
    "We'll be using that approach for the rest of the examples.  It's much cleaner.  \n",
    "\n",
    "However, keep in mind that we're still creating a figure and adding axes to it.  When we start making plot layouts that can't be described by `subplots`, we'll go back to creating the figure first and then adding axes to it one-by-one."
   ]
  },
  {
   "cell_type": "markdown",
   "metadata": {},
   "source": [
    "Simple example of multiple plots where each Axes shows a different plot:"
   ]
  },
  {
   "cell_type": "code",
   "execution_count": null,
   "metadata": {},
   "outputs": [],
   "source": [
    "fig, axes = plt.subplots(nrows=2, ncols=2)\n",
    "\n",
    "axes[0,0].plot([1,2,3,4])\n",
    "axes[1,0].plot([4,2,1,4])\n",
    "axes[0,1].plot([1,2,3,6])\n",
    "axes[1,1].plot([4,2,1,8])\n",
    "\n",
    "plt.show()"
   ]
  },
  {
   "cell_type": "markdown",
   "metadata": {},
   "source": [
    "Saving our plot\n",
    "===============\n",
    "\n",
    "Now that we're happy with the outcome of our plot, we want to save it to\n",
    "disk. There are many file formats we can save to in Matplotlib. To see\n",
    "a list of available options, use:\n",
    "\n"
   ]
  },
  {
   "cell_type": "code",
   "execution_count": null,
   "metadata": {
    "collapsed": false,
    "jupyter": {
     "outputs_hidden": false
    }
   },
   "outputs": [],
   "source": [
    "print(fig.canvas.get_supported_filetypes())"
   ]
  },
  {
   "cell_type": "markdown",
   "metadata": {},
   "source": [
    "We can then use the `figure.Figure.savefig` in order to save the figure\n",
    "to disk. Note that there are several useful flags we'll show below:\n",
    "\n",
    "* ``transparent=True`` makes the background of the saved figure transparent\n",
    "  if the format supports it.\n",
    "* ``dpi=80`` controls the resolution (dots per square inch) of the output.\n",
    "* ``bbox_inches=\"tight\"`` fits the bounds of the figure to our plot.\n",
    "\n"
   ]
  },
  {
   "cell_type": "code",
   "execution_count": null,
   "metadata": {
    "collapsed": false,
    "jupyter": {
     "outputs_hidden": false
    }
   },
   "outputs": [],
   "source": [
    "# Uncomment this line to save the figure.\n",
    "# fig.savefig('sales.png', transparent=False, dpi=80, bbox_inches=\"tight\")"
   ]
  },
  {
   "cell_type": "code",
   "execution_count": null,
   "metadata": {},
   "outputs": [],
   "source": [
    "plt.style.available"
   ]
  },
  {
   "cell_type": "code",
   "execution_count": null,
   "metadata": {},
   "outputs": [],
   "source": []
  }
 ],
 "metadata": {
  "kernelspec": {
   "display_name": "Python 3 (ipykernel)",
   "language": "python",
   "name": "python3"
  },
  "language_info": {
   "codemirror_mode": {
    "name": "ipython",
    "version": 3
   },
   "file_extension": ".py",
   "mimetype": "text/x-python",
   "name": "python",
   "nbconvert_exporter": "python",
   "pygments_lexer": "ipython3",
   "version": "3.9.7"
  }
 },
 "nbformat": 4,
 "nbformat_minor": 4
}
