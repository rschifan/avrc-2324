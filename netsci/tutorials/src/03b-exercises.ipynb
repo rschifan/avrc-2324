{
 "cells": [
  {
   "cell_type": "code",
   "execution_count": null,
   "metadata": {},
   "outputs": [],
   "source": [
    "import networkx as nx"
   ]
  },
  {
   "cell_type": "markdown",
   "metadata": {},
   "source": [
    "We will be using the [Dolphin social network](http://www-personal.umich.edu/~mejn/netdata/dolphins.zip). You can find the netwrok in the datasets folder (read the [dolphins.txt](../datasets/dolphins/dolphins.txt) file for more information on the data collection process)"
   ]
  },
  {
   "cell_type": "markdown",
   "metadata": {},
   "source": [
    "### 1.Picking the right Dolphins\n",
    "Answer the following questions:\n",
    "\n",
    "#### (1) Popularity contest\n",
    "We want to know who the top dolphins are in the network, the real centers of attraction. Using what you learned about centrality from the readings and videos, choose an appropriate centrality measure that will tell us who those dolphins are. Justify your decision and list who the important dolphins are.\n",
    "\n",
    "#### (2) Relay\n",
    "Dolphins like passing information around efficiently along the shortest-paths. Among their neighbors who are the most important message relayers in the network? Justify your centrality choice for finding these dolphins.\n",
    "\n",
    "#### (3) Gossip \n",
    "There is a lot smack going around the pod and everyone wants to know if Flipper will be inviting them to the party next week. But gossip takes time travel. Which dolphins are in the best position for getting all the best gossip from around the pod? Justify your centrality choice for finding these dolphins."
   ]
  },
  {
   "cell_type": "code",
   "execution_count": null,
   "metadata": {},
   "outputs": [],
   "source": [
    "G = nx.read_gml(\"../datasets/dolphins/dolphins.gml\")"
   ]
  },
  {
   "cell_type": "code",
   "execution_count": null,
   "metadata": {},
   "outputs": [],
   "source": []
  },
  {
   "cell_type": "markdown",
   "metadata": {},
   "source": [
    "### 2.Can you plot the complementary cumulative distribution function?\n",
    "\n",
    "First of all, you may be confused between CDF (cumulative distribution function) and CCDF (complementary cumulative distribution function). They are all \"cumulative\", but the difference is that the former starts from left and the latter starts from the right. \n",
    "\n",
    "So, as [Power laws, Pareto distributions and Zipf's law](https://arxiv.org/pdf/cond-mat/0412004v3.pdf) (Fig. 3 (d)) paper explains, plotting the CCDF (complementary cumulative distribution function) is probably the best method to show a heavy-tailed distribution. \n",
    "\n",
    "To build the CCDF you start with the unbinned data `x` and `y`. Recall that `y` are the sorted counts associated with each value in `x`. To get the CCDF's value at a particular `x` you want to accumulate all the counts including and following that value. So the first value would just be the sum of all the counts, while the second value would be the sum of all the counts excluding the first one, and so on. In order to represent these values as probabilities, we need to normalize them by dividing all their elements by the largest value (which will always be the first value). This makes sure that the CCDF starts at 1.0 on the log-log plot.\n",
    "\n",
    "Below, calculate the CCDF and plot it in a similar style (log-log, with symbols). As data, you can use the degree distribution, or the distribution of one of the centrality measures we have seen in class."
   ]
  },
  {
   "cell_type": "code",
   "execution_count": null,
   "metadata": {},
   "outputs": [],
   "source": []
  },
  {
   "cell_type": "code",
   "execution_count": null,
   "metadata": {},
   "outputs": [],
   "source": []
  },
  {
   "cell_type": "markdown",
   "metadata": {},
   "source": [
    "### 3.Does the friendship paradox hold for the Dolphins network? Motivate your answer quantitatively.\n"
   ]
  },
  {
   "cell_type": "code",
   "execution_count": null,
   "metadata": {},
   "outputs": [],
   "source": []
  },
  {
   "cell_type": "code",
   "execution_count": null,
   "metadata": {},
   "outputs": [],
   "source": []
  }
 ],
 "metadata": {
  "kernelspec": {
   "display_name": "Python 3",
   "language": "python",
   "name": "python3"
  },
  "language_info": {
   "codemirror_mode": {
    "name": "ipython",
    "version": 3
   },
   "file_extension": ".py",
   "mimetype": "text/x-python",
   "name": "python",
   "nbconvert_exporter": "python",
   "pygments_lexer": "ipython3",
   "version": "3.11.7"
  }
 },
 "nbformat": 4,
 "nbformat_minor": 2
}
